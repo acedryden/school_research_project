{
 "cells": [
  {
   "cell_type": "code",
   "execution_count": 1,
   "id": "70d930fb",
   "metadata": {
    "id": "70d930fb"
   },
   "outputs": [],
   "source": [
    "import pandas as pd\n",
    "from sqlalchemy.ext.automap import automap_base\n",
    "from sqlalchemy.orm import Session\n",
    "from sqlalchemy import create_engine, text, inspect, func, select, Table, MetaData\n",
    "import matplotlib.pyplot as plt\n",
    "from sklearn.preprocessing import StandardScaler\n",
    "import pickle\n",
    "import joblib\n",
    "import numpy as np\n",
    "from sklearn.compose import ColumnTransformer\n",
    "from sklearn.preprocessing import OneHotEncoder\n",
    "from sklearn.preprocessing import OneHotEncoder, LabelEncoder"
   ]
  },
  {
   "cell_type": "code",
   "execution_count": 2,
   "id": "6c617798",
   "metadata": {
    "colab": {
     "base_uri": "https://localhost:8080/",
     "height": 660
    },
    "id": "6c617798",
    "outputId": "56b0e8b2-e9fc-4221-e928-a5ca0def0660"
   },
   "outputs": [
    {
     "data": {
      "text/html": [
       "<div>\n",
       "<style scoped>\n",
       "    .dataframe tbody tr th:only-of-type {\n",
       "        vertical-align: middle;\n",
       "    }\n",
       "\n",
       "    .dataframe tbody tr th {\n",
       "        vertical-align: top;\n",
       "    }\n",
       "\n",
       "    .dataframe thead th {\n",
       "        text-align: right;\n",
       "    }\n",
       "</style>\n",
       "<table border=\"1\" class=\"dataframe\">\n",
       "  <thead>\n",
       "    <tr style=\"text-align: right;\">\n",
       "      <th></th>\n",
       "      <th>Board Number</th>\n",
       "      <th>Year</th>\n",
       "      <th>Board Type</th>\n",
       "      <th>Region</th>\n",
       "      <th>Grade 10 OSSLT Results</th>\n",
       "      <th>Progress in Grade 10 OSSLT Results</th>\n",
       "      <th>Credit Accumulation by the end of Grade 10</th>\n",
       "      <th>Progress in Credit Accumulation by the end of Grade 10</th>\n",
       "      <th>Credit Accumulation by the end of Grade 11</th>\n",
       "      <th>Progress in Credit Accumulation by the end of Grade 11</th>\n",
       "      <th>Four Year Graduation Rate 2017-2018 Grade 9 Cohort</th>\n",
       "      <th>Progress in Four Year Graduation Rate 2017-2018 Grade 9 Cohort</th>\n",
       "    </tr>\n",
       "  </thead>\n",
       "  <tbody>\n",
       "    <tr>\n",
       "      <th>0</th>\n",
       "      <td>B28010</td>\n",
       "      <td>2021-2022</td>\n",
       "      <td>Public</td>\n",
       "      <td>North Region</td>\n",
       "      <td>0.72</td>\n",
       "      <td>0.0</td>\n",
       "      <td>0.69</td>\n",
       "      <td>-0.02</td>\n",
       "      <td>0.71</td>\n",
       "      <td>-0.08</td>\n",
       "      <td>0.718</td>\n",
       "      <td>0.018</td>\n",
       "    </tr>\n",
       "    <tr>\n",
       "      <th>1</th>\n",
       "      <td>B67202</td>\n",
       "      <td>2021-2022</td>\n",
       "      <td>Roman Catholic</td>\n",
       "      <td>East Region</td>\n",
       "      <td>0.86</td>\n",
       "      <td>0.0</td>\n",
       "      <td>0.84</td>\n",
       "      <td>0.00</td>\n",
       "      <td>0.87</td>\n",
       "      <td>-0.03</td>\n",
       "      <td>0.880</td>\n",
       "      <td>0.004</td>\n",
       "    </tr>\n",
       "    <tr>\n",
       "      <th>2</th>\n",
       "      <td>B66010</td>\n",
       "      <td>2021-2022</td>\n",
       "      <td>Public</td>\n",
       "      <td>West Region</td>\n",
       "      <td>0.81</td>\n",
       "      <td>0.0</td>\n",
       "      <td>0.81</td>\n",
       "      <td>0.03</td>\n",
       "      <td>0.78</td>\n",
       "      <td>-0.01</td>\n",
       "      <td>0.810</td>\n",
       "      <td>0.066</td>\n",
       "    </tr>\n",
       "    <tr>\n",
       "      <th>3</th>\n",
       "      <td>B66001</td>\n",
       "      <td>2021-2022</td>\n",
       "      <td>Public</td>\n",
       "      <td>West Region</td>\n",
       "      <td>0.75</td>\n",
       "      <td>0.0</td>\n",
       "      <td>0.67</td>\n",
       "      <td>-0.01</td>\n",
       "      <td>0.71</td>\n",
       "      <td>-0.01</td>\n",
       "      <td>0.711</td>\n",
       "      <td>0.011</td>\n",
       "    </tr>\n",
       "    <tr>\n",
       "      <th>4</th>\n",
       "      <td>B67164</td>\n",
       "      <td>2021-2022</td>\n",
       "      <td>Roman Catholic</td>\n",
       "      <td>West Region</td>\n",
       "      <td>0.85</td>\n",
       "      <td>0.0</td>\n",
       "      <td>0.73</td>\n",
       "      <td>-0.08</td>\n",
       "      <td>0.81</td>\n",
       "      <td>-0.01</td>\n",
       "      <td>0.797</td>\n",
       "      <td>-0.038</td>\n",
       "    </tr>\n",
       "    <tr>\n",
       "      <th>5</th>\n",
       "      <td>B67008</td>\n",
       "      <td>2021-2022</td>\n",
       "      <td>Roman Catholic</td>\n",
       "      <td>West Region</td>\n",
       "      <td>0.82</td>\n",
       "      <td>0.0</td>\n",
       "      <td>0.82</td>\n",
       "      <td>0.01</td>\n",
       "      <td>0.85</td>\n",
       "      <td>0.05</td>\n",
       "      <td>0.868</td>\n",
       "      <td>0.027</td>\n",
       "    </tr>\n",
       "    <tr>\n",
       "      <th>6</th>\n",
       "      <td>B67172</td>\n",
       "      <td>2021-2022</td>\n",
       "      <td>Roman Catholic</td>\n",
       "      <td>East Region</td>\n",
       "      <td>0.84</td>\n",
       "      <td>0.0</td>\n",
       "      <td>0.80</td>\n",
       "      <td>-0.09</td>\n",
       "      <td>0.84</td>\n",
       "      <td>-0.06</td>\n",
       "      <td>0.882</td>\n",
       "      <td>0.014</td>\n",
       "    </tr>\n",
       "    <tr>\n",
       "      <th>7</th>\n",
       "      <td>B66311</td>\n",
       "      <td>2021-2022</td>\n",
       "      <td>Public</td>\n",
       "      <td>East Region</td>\n",
       "      <td>0.93</td>\n",
       "      <td>0.0</td>\n",
       "      <td>0.78</td>\n",
       "      <td>-0.01</td>\n",
       "      <td>0.84</td>\n",
       "      <td>-0.06</td>\n",
       "      <td>0.915</td>\n",
       "      <td>0.008</td>\n",
       "    </tr>\n",
       "    <tr>\n",
       "      <th>8</th>\n",
       "      <td>B67300</td>\n",
       "      <td>2021-2022</td>\n",
       "      <td>Roman Catholic</td>\n",
       "      <td>West Region</td>\n",
       "      <td>0.85</td>\n",
       "      <td>0.0</td>\n",
       "      <td>0.91</td>\n",
       "      <td>-0.04</td>\n",
       "      <td>0.92</td>\n",
       "      <td>-0.05</td>\n",
       "      <td>0.960</td>\n",
       "      <td>0.062</td>\n",
       "    </tr>\n",
       "    <tr>\n",
       "      <th>9</th>\n",
       "      <td>B67318</td>\n",
       "      <td>2021-2022</td>\n",
       "      <td>Roman Catholic</td>\n",
       "      <td>Toronto Region</td>\n",
       "      <td>0.95</td>\n",
       "      <td>0.0</td>\n",
       "      <td>0.87</td>\n",
       "      <td>0.02</td>\n",
       "      <td>0.91</td>\n",
       "      <td>-0.02</td>\n",
       "      <td>0.938</td>\n",
       "      <td>0.021</td>\n",
       "    </tr>\n",
       "  </tbody>\n",
       "</table>\n",
       "</div>"
      ],
      "text/plain": [
       "  Board Number       Year      Board Type         Region   \\\n",
       "0       B28010  2021-2022          Public    North Region   \n",
       "1       B67202  2021-2022  Roman Catholic     East Region   \n",
       "2       B66010  2021-2022          Public     West Region   \n",
       "3       B66001  2021-2022          Public     West Region   \n",
       "4       B67164  2021-2022  Roman Catholic     West Region   \n",
       "5       B67008  2021-2022  Roman Catholic     West Region   \n",
       "6       B67172  2021-2022  Roman Catholic     East Region   \n",
       "7       B66311  2021-2022          Public     East Region   \n",
       "8       B67300  2021-2022  Roman Catholic     West Region   \n",
       "9       B67318  2021-2022  Roman Catholic  Toronto Region   \n",
       "\n",
       "   Grade 10 OSSLT Results  Progress in Grade 10 OSSLT Results   \\\n",
       "0                    0.72                                  0.0   \n",
       "1                    0.86                                  0.0   \n",
       "2                    0.81                                  0.0   \n",
       "3                    0.75                                  0.0   \n",
       "4                    0.85                                  0.0   \n",
       "5                    0.82                                  0.0   \n",
       "6                    0.84                                  0.0   \n",
       "7                    0.93                                  0.0   \n",
       "8                    0.85                                  0.0   \n",
       "9                    0.95                                  0.0   \n",
       "\n",
       "   Credit Accumulation by the end of Grade 10  \\\n",
       "0                                        0.69   \n",
       "1                                        0.84   \n",
       "2                                        0.81   \n",
       "3                                        0.67   \n",
       "4                                        0.73   \n",
       "5                                        0.82   \n",
       "6                                        0.80   \n",
       "7                                        0.78   \n",
       "8                                        0.91   \n",
       "9                                        0.87   \n",
       "\n",
       "   Progress in Credit Accumulation by the end of Grade 10  \\\n",
       "0                                              -0.02        \n",
       "1                                               0.00        \n",
       "2                                               0.03        \n",
       "3                                              -0.01        \n",
       "4                                              -0.08        \n",
       "5                                               0.01        \n",
       "6                                              -0.09        \n",
       "7                                              -0.01        \n",
       "8                                              -0.04        \n",
       "9                                               0.02        \n",
       "\n",
       "   Credit Accumulation by the end of Grade 11  \\\n",
       "0                                        0.71   \n",
       "1                                        0.87   \n",
       "2                                        0.78   \n",
       "3                                        0.71   \n",
       "4                                        0.81   \n",
       "5                                        0.85   \n",
       "6                                        0.84   \n",
       "7                                        0.84   \n",
       "8                                        0.92   \n",
       "9                                        0.91   \n",
       "\n",
       "   Progress in Credit Accumulation by the end of Grade 11  \\\n",
       "0                                              -0.08        \n",
       "1                                              -0.03        \n",
       "2                                              -0.01        \n",
       "3                                              -0.01        \n",
       "4                                              -0.01        \n",
       "5                                               0.05        \n",
       "6                                              -0.06        \n",
       "7                                              -0.06        \n",
       "8                                              -0.05        \n",
       "9                                              -0.02        \n",
       "\n",
       "   Four Year Graduation Rate 2017-2018 Grade 9 Cohort  \\\n",
       "0                                              0.718    \n",
       "1                                              0.880    \n",
       "2                                              0.810    \n",
       "3                                              0.711    \n",
       "4                                              0.797    \n",
       "5                                              0.868    \n",
       "6                                              0.882    \n",
       "7                                              0.915    \n",
       "8                                              0.960    \n",
       "9                                              0.938    \n",
       "\n",
       "   Progress in Four Year Graduation Rate 2017-2018 Grade 9 Cohort  \n",
       "0                                              0.018               \n",
       "1                                              0.004               \n",
       "2                                              0.066               \n",
       "3                                              0.011               \n",
       "4                                             -0.038               \n",
       "5                                              0.027               \n",
       "6                                              0.014               \n",
       "7                                              0.008               \n",
       "8                                              0.062               \n",
       "9                                              0.021               "
      ]
     },
     "execution_count": 2,
     "metadata": {},
     "output_type": "execute_result"
    }
   ],
   "source": [
    "#read graduation csv\n",
    "df = pd.read_csv(\"graduation_data.csv\")\n",
    "\n",
    "#check graduation data\n",
    "df.head(10)"
   ]
  },
  {
   "cell_type": "code",
   "execution_count": 3,
   "id": "998dd4a5",
   "metadata": {
    "id": "998dd4a5"
   },
   "outputs": [],
   "source": [
    "#splitting the year variable to a single year\n",
    "df[\"Year\"] = df[\"Year\"].str.split(\"-\").str[0]"
   ]
  },
  {
   "cell_type": "code",
   "execution_count": 4,
   "id": "0cc48a44",
   "metadata": {
    "id": "0cc48a44"
   },
   "outputs": [],
   "source": [
    "#changing the year variable to an integer\n",
    "df[\"Year\"] = df[\"Year\"].astype(int)"
   ]
  },
  {
   "cell_type": "code",
   "execution_count": 5,
   "id": "d7505ec0",
   "metadata": {
    "colab": {
     "base_uri": "https://localhost:8080/"
    },
    "id": "d7505ec0",
    "outputId": "aa7dd198-3be8-4362-c71f-e804047b95dc"
   },
   "outputs": [
    {
     "name": "stdout",
     "output_type": "stream",
     "text": [
      "<class 'pandas.core.frame.DataFrame'>\n",
      "RangeIndex: 144 entries, 0 to 143\n",
      "Data columns (total 12 columns):\n",
      " #   Column                                                          Non-Null Count  Dtype  \n",
      "---  ------                                                          --------------  -----  \n",
      " 0   Board Number                                                    144 non-null    object \n",
      " 1   Year                                                            144 non-null    int32  \n",
      " 2   Board Type                                                      144 non-null    object \n",
      " 3   Region                                                          144 non-null    object \n",
      " 4   Grade 10 OSSLT Results                                          144 non-null    float64\n",
      " 5   Progress in Grade 10 OSSLT Results                              144 non-null    float64\n",
      " 6   Credit Accumulation by the end of Grade 10                      144 non-null    float64\n",
      " 7   Progress in Credit Accumulation by the end of Grade 10          144 non-null    float64\n",
      " 8   Credit Accumulation by the end of Grade 11                      144 non-null    float64\n",
      " 9   Progress in Credit Accumulation by the end of Grade 11          144 non-null    float64\n",
      " 10  Four Year Graduation Rate 2017-2018 Grade 9 Cohort              144 non-null    float64\n",
      " 11  Progress in Four Year Graduation Rate 2017-2018 Grade 9 Cohort  144 non-null    float64\n",
      "dtypes: float64(8), int32(1), object(3)\n",
      "memory usage: 13.1+ KB\n"
     ]
    }
   ],
   "source": [
    "df.info()"
   ]
  },
  {
   "cell_type": "code",
   "execution_count": 6,
   "id": "aa53a0e9",
   "metadata": {
    "colab": {
     "base_uri": "https://localhost:8080/",
     "height": 660
    },
    "id": "aa53a0e9",
    "outputId": "f3b53780-4eee-4245-cfcb-0ff7e56d09d6"
   },
   "outputs": [
    {
     "data": {
      "text/html": [
       "<div>\n",
       "<style scoped>\n",
       "    .dataframe tbody tr th:only-of-type {\n",
       "        vertical-align: middle;\n",
       "    }\n",
       "\n",
       "    .dataframe tbody tr th {\n",
       "        vertical-align: top;\n",
       "    }\n",
       "\n",
       "    .dataframe thead th {\n",
       "        text-align: right;\n",
       "    }\n",
       "</style>\n",
       "<table border=\"1\" class=\"dataframe\">\n",
       "  <thead>\n",
       "    <tr style=\"text-align: right;\">\n",
       "      <th></th>\n",
       "      <th>Board Number</th>\n",
       "      <th>Year</th>\n",
       "      <th>Board Type</th>\n",
       "      <th>Region</th>\n",
       "      <th>Grade 10 OSSLT Results</th>\n",
       "      <th>Progress in Grade 10 OSSLT Results</th>\n",
       "      <th>Credit Accumulation by the end of Grade 10</th>\n",
       "      <th>Progress in Credit Accumulation by the end of Grade 10</th>\n",
       "      <th>Credit Accumulation by the end of Grade 11</th>\n",
       "      <th>Progress in Credit Accumulation by the end of Grade 11</th>\n",
       "      <th>Four Year Graduation Rate 2017-2018 Grade 9 Cohort</th>\n",
       "      <th>Progress in Four Year Graduation Rate 2017-2018 Grade 9 Cohort</th>\n",
       "    </tr>\n",
       "  </thead>\n",
       "  <tbody>\n",
       "    <tr>\n",
       "      <th>6</th>\n",
       "      <td>B67172</td>\n",
       "      <td>2021</td>\n",
       "      <td>Roman Catholic</td>\n",
       "      <td>East Region</td>\n",
       "      <td>0.84</td>\n",
       "      <td>0.0</td>\n",
       "      <td>0.80</td>\n",
       "      <td>-0.09</td>\n",
       "      <td>0.84</td>\n",
       "      <td>-0.06</td>\n",
       "      <td>0.882</td>\n",
       "      <td>0.014</td>\n",
       "    </tr>\n",
       "    <tr>\n",
       "      <th>35</th>\n",
       "      <td>B29050</td>\n",
       "      <td>2021</td>\n",
       "      <td>Roman Catholic</td>\n",
       "      <td>North Region</td>\n",
       "      <td>0.80</td>\n",
       "      <td>0.0</td>\n",
       "      <td>0.72</td>\n",
       "      <td>-0.09</td>\n",
       "      <td>0.72</td>\n",
       "      <td>-0.04</td>\n",
       "      <td>0.786</td>\n",
       "      <td>-0.014</td>\n",
       "    </tr>\n",
       "    <tr>\n",
       "      <th>66</th>\n",
       "      <td>B67148</td>\n",
       "      <td>2021</td>\n",
       "      <td>Roman Catholic</td>\n",
       "      <td>West Region</td>\n",
       "      <td>0.83</td>\n",
       "      <td>0.0</td>\n",
       "      <td>0.80</td>\n",
       "      <td>-0.01</td>\n",
       "      <td>0.83</td>\n",
       "      <td>0.00</td>\n",
       "      <td>0.789</td>\n",
       "      <td>-0.010</td>\n",
       "    </tr>\n",
       "    <tr>\n",
       "      <th>45</th>\n",
       "      <td>B67180</td>\n",
       "      <td>2021</td>\n",
       "      <td>Roman Catholic</td>\n",
       "      <td>East Region</td>\n",
       "      <td>0.88</td>\n",
       "      <td>0.0</td>\n",
       "      <td>0.83</td>\n",
       "      <td>-0.01</td>\n",
       "      <td>0.89</td>\n",
       "      <td>-0.02</td>\n",
       "      <td>0.899</td>\n",
       "      <td>0.016</td>\n",
       "    </tr>\n",
       "    <tr>\n",
       "      <th>67</th>\n",
       "      <td>B66176</td>\n",
       "      <td>2021</td>\n",
       "      <td>Public</td>\n",
       "      <td>West Region</td>\n",
       "      <td>0.85</td>\n",
       "      <td>0.0</td>\n",
       "      <td>0.82</td>\n",
       "      <td>0.00</td>\n",
       "      <td>0.81</td>\n",
       "      <td>0.00</td>\n",
       "      <td>0.778</td>\n",
       "      <td>0.061</td>\n",
       "    </tr>\n",
       "    <tr>\n",
       "      <th>97</th>\n",
       "      <td>B66028</td>\n",
       "      <td>2022</td>\n",
       "      <td>Public</td>\n",
       "      <td>West Region</td>\n",
       "      <td>0.79</td>\n",
       "      <td>0.0</td>\n",
       "      <td>0.74</td>\n",
       "      <td>-0.06</td>\n",
       "      <td>0.79</td>\n",
       "      <td>-0.02</td>\n",
       "      <td>0.809</td>\n",
       "      <td>-0.018</td>\n",
       "    </tr>\n",
       "    <tr>\n",
       "      <th>142</th>\n",
       "      <td>B67075</td>\n",
       "      <td>2022</td>\n",
       "      <td>Roman Catholic</td>\n",
       "      <td>Central Region</td>\n",
       "      <td>0.90</td>\n",
       "      <td>0.0</td>\n",
       "      <td>0.91</td>\n",
       "      <td>0.01</td>\n",
       "      <td>0.94</td>\n",
       "      <td>0.00</td>\n",
       "      <td>0.960</td>\n",
       "      <td>0.004</td>\n",
       "    </tr>\n",
       "    <tr>\n",
       "      <th>32</th>\n",
       "      <td>B29025</td>\n",
       "      <td>2021</td>\n",
       "      <td>Roman Catholic</td>\n",
       "      <td>North Region</td>\n",
       "      <td>0.80</td>\n",
       "      <td>0.0</td>\n",
       "      <td>0.73</td>\n",
       "      <td>-0.12</td>\n",
       "      <td>0.76</td>\n",
       "      <td>-0.09</td>\n",
       "      <td>0.828</td>\n",
       "      <td>0.021</td>\n",
       "    </tr>\n",
       "    <tr>\n",
       "      <th>65</th>\n",
       "      <td>B66117</td>\n",
       "      <td>2021</td>\n",
       "      <td>Public</td>\n",
       "      <td>West Region</td>\n",
       "      <td>0.88</td>\n",
       "      <td>0.0</td>\n",
       "      <td>0.82</td>\n",
       "      <td>0.00</td>\n",
       "      <td>0.83</td>\n",
       "      <td>0.00</td>\n",
       "      <td>0.824</td>\n",
       "      <td>0.029</td>\n",
       "    </tr>\n",
       "    <tr>\n",
       "      <th>120</th>\n",
       "      <td>B67067</td>\n",
       "      <td>2022</td>\n",
       "      <td>Roman Catholic</td>\n",
       "      <td>East Region</td>\n",
       "      <td>0.82</td>\n",
       "      <td>0.0</td>\n",
       "      <td>0.86</td>\n",
       "      <td>0.02</td>\n",
       "      <td>0.91</td>\n",
       "      <td>0.03</td>\n",
       "      <td>0.907</td>\n",
       "      <td>0.002</td>\n",
       "    </tr>\n",
       "  </tbody>\n",
       "</table>\n",
       "</div>"
      ],
      "text/plain": [
       "    Board Number  Year      Board Type         Region   \\\n",
       "6         B67172  2021  Roman Catholic     East Region   \n",
       "35        B29050  2021  Roman Catholic    North Region   \n",
       "66        B67148  2021  Roman Catholic     West Region   \n",
       "45        B67180  2021  Roman Catholic     East Region   \n",
       "67        B66176  2021          Public     West Region   \n",
       "97        B66028  2022          Public     West Region   \n",
       "142       B67075  2022  Roman Catholic  Central Region   \n",
       "32        B29025  2021  Roman Catholic    North Region   \n",
       "65        B66117  2021          Public     West Region   \n",
       "120       B67067  2022  Roman Catholic     East Region   \n",
       "\n",
       "     Grade 10 OSSLT Results  Progress in Grade 10 OSSLT Results   \\\n",
       "6                      0.84                                  0.0   \n",
       "35                     0.80                                  0.0   \n",
       "66                     0.83                                  0.0   \n",
       "45                     0.88                                  0.0   \n",
       "67                     0.85                                  0.0   \n",
       "97                     0.79                                  0.0   \n",
       "142                    0.90                                  0.0   \n",
       "32                     0.80                                  0.0   \n",
       "65                     0.88                                  0.0   \n",
       "120                    0.82                                  0.0   \n",
       "\n",
       "     Credit Accumulation by the end of Grade 10  \\\n",
       "6                                          0.80   \n",
       "35                                         0.72   \n",
       "66                                         0.80   \n",
       "45                                         0.83   \n",
       "67                                         0.82   \n",
       "97                                         0.74   \n",
       "142                                        0.91   \n",
       "32                                         0.73   \n",
       "65                                         0.82   \n",
       "120                                        0.86   \n",
       "\n",
       "     Progress in Credit Accumulation by the end of Grade 10  \\\n",
       "6                                                -0.09        \n",
       "35                                               -0.09        \n",
       "66                                               -0.01        \n",
       "45                                               -0.01        \n",
       "67                                                0.00        \n",
       "97                                               -0.06        \n",
       "142                                               0.01        \n",
       "32                                               -0.12        \n",
       "65                                                0.00        \n",
       "120                                               0.02        \n",
       "\n",
       "     Credit Accumulation by the end of Grade 11  \\\n",
       "6                                          0.84   \n",
       "35                                         0.72   \n",
       "66                                         0.83   \n",
       "45                                         0.89   \n",
       "67                                         0.81   \n",
       "97                                         0.79   \n",
       "142                                        0.94   \n",
       "32                                         0.76   \n",
       "65                                         0.83   \n",
       "120                                        0.91   \n",
       "\n",
       "     Progress in Credit Accumulation by the end of Grade 11  \\\n",
       "6                                                -0.06        \n",
       "35                                               -0.04        \n",
       "66                                                0.00        \n",
       "45                                               -0.02        \n",
       "67                                                0.00        \n",
       "97                                               -0.02        \n",
       "142                                               0.00        \n",
       "32                                               -0.09        \n",
       "65                                                0.00        \n",
       "120                                               0.03        \n",
       "\n",
       "     Four Year Graduation Rate 2017-2018 Grade 9 Cohort  \\\n",
       "6                                                0.882    \n",
       "35                                               0.786    \n",
       "66                                               0.789    \n",
       "45                                               0.899    \n",
       "67                                               0.778    \n",
       "97                                               0.809    \n",
       "142                                              0.960    \n",
       "32                                               0.828    \n",
       "65                                               0.824    \n",
       "120                                              0.907    \n",
       "\n",
       "     Progress in Four Year Graduation Rate 2017-2018 Grade 9 Cohort  \n",
       "6                                                0.014               \n",
       "35                                              -0.014               \n",
       "66                                              -0.010               \n",
       "45                                               0.016               \n",
       "67                                               0.061               \n",
       "97                                              -0.018               \n",
       "142                                              0.004               \n",
       "32                                               0.021               \n",
       "65                                               0.029               \n",
       "120                                              0.002               "
      ]
     },
     "execution_count": 6,
     "metadata": {},
     "output_type": "execute_result"
    }
   ],
   "source": [
    "df.sample(10)"
   ]
  },
  {
   "cell_type": "code",
   "execution_count": 7,
   "id": "4bd0952a",
   "metadata": {
    "id": "4bd0952a"
   },
   "outputs": [],
   "source": [
    "X = df[[col for col in df.columns if col != 'Region ' and col !='Board Type' and col != \"Board Number\" and col != \"Four Year Graduation Rate 2017-2018 Grade 9 Cohort\"]]\n"
   ]
  },
  {
   "cell_type": "code",
   "execution_count": 8,
   "id": "a405704e",
   "metadata": {
    "colab": {
     "base_uri": "https://localhost:8080/"
    },
    "id": "a405704e",
    "outputId": "9c37e3ea-9e33-43bf-dc9e-0f23aba50886"
   },
   "outputs": [
    {
     "data": {
      "text/plain": [
       "(144, 8)"
      ]
     },
     "execution_count": 8,
     "metadata": {},
     "output_type": "execute_result"
    }
   ],
   "source": [
    "X.shape"
   ]
  },
  {
   "cell_type": "code",
   "execution_count": 9,
   "id": "1ce76f72",
   "metadata": {},
   "outputs": [],
   "source": [
    "oHe=OneHotEncoder()"
   ]
  },
  {
   "cell_type": "code",
   "execution_count": 10,
   "id": "d0766c69",
   "metadata": {},
   "outputs": [],
   "source": [
    "ct=ColumnTransformer(transformers=[('encoder',oHe,[3])],remainder='passthrough')"
   ]
  },
  {
   "cell_type": "code",
   "execution_count": 11,
   "id": "4e08687a",
   "metadata": {},
   "outputs": [],
   "source": [
    "le=LabelEncoder()"
   ]
  },
  {
   "cell_type": "code",
   "execution_count": 13,
   "id": "6f104c7c",
   "metadata": {},
   "outputs": [],
   "source": [
    "#X = np.array(ct.fit_transform(X), dtype=np.float64)"
   ]
  },
  {
   "cell_type": "code",
   "execution_count": 20,
   "id": "eb9a49c5",
   "metadata": {},
   "outputs": [
    {
     "name": "stdout",
     "output_type": "stream",
     "text": [
      "<class 'pandas.core.frame.DataFrame'>\n",
      "RangeIndex: 144 entries, 0 to 143\n",
      "Data columns (total 8 columns):\n",
      " #   Column                                                          Non-Null Count  Dtype  \n",
      "---  ------                                                          --------------  -----  \n",
      " 0   Year                                                            144 non-null    int32  \n",
      " 1   Grade 10 OSSLT Results                                          144 non-null    float64\n",
      " 2   Progress in Grade 10 OSSLT Results                              144 non-null    float64\n",
      " 3   Credit Accumulation by the end of Grade 10                      144 non-null    float64\n",
      " 4   Progress in Credit Accumulation by the end of Grade 10          144 non-null    float64\n",
      " 5   Credit Accumulation by the end of Grade 11                      144 non-null    float64\n",
      " 6   Progress in Credit Accumulation by the end of Grade 11          144 non-null    float64\n",
      " 7   Progress in Four Year Graduation Rate 2017-2018 Grade 9 Cohort  144 non-null    float64\n",
      "dtypes: float64(7), int32(1)\n",
      "memory usage: 8.6 KB\n"
     ]
    }
   ],
   "source": [
    "X.info()"
   ]
  },
  {
   "cell_type": "code",
   "execution_count": 21,
   "id": "308717a1",
   "metadata": {},
   "outputs": [],
   "source": [
    "#X.iloc[:,3] = le.fit_transform(X.iloc[:, 3])"
   ]
  },
  {
   "cell_type": "code",
   "execution_count": 29,
   "id": "f335a33d",
   "metadata": {},
   "outputs": [
    {
     "data": {
      "text/plain": [
       "0      2021.0\n",
       "1      2021.0\n",
       "2      2021.0\n",
       "3      2021.0\n",
       "4      2021.0\n",
       "        ...  \n",
       "139    2022.0\n",
       "140    2022.0\n",
       "141    2022.0\n",
       "142    2022.0\n",
       "143    2022.0\n",
       "Name: Year, Length: 144, dtype: float64"
      ]
     },
     "execution_count": 29,
     "metadata": {},
     "output_type": "execute_result"
    }
   ],
   "source": [
    "X[\"Year\"].astype(float)"
   ]
  },
  {
   "cell_type": "code",
   "execution_count": 30,
   "id": "e9aa6187",
   "metadata": {
    "id": "e9aa6187"
   },
   "outputs": [],
   "source": [
    "y = df['Four Year Graduation Rate 2017-2018 Grade 9 Cohort']"
   ]
  },
  {
   "cell_type": "code",
   "execution_count": 31,
   "id": "131b7f34",
   "metadata": {
    "id": "131b7f34"
   },
   "outputs": [],
   "source": [
    "from sklearn.model_selection import train_test_split\n",
    "\n",
    "#X_encoded = pd.get_dummies(X, columns=['Region '])\n",
    "\n",
    "X_train, X_test, y_train, y_test = train_test_split(X, y, test_size=0.2, random_state = 42)"
   ]
  },
  {
   "cell_type": "code",
   "execution_count": 32,
   "id": "1a91e676",
   "metadata": {
    "colab": {
     "base_uri": "https://localhost:8080/",
     "height": 74
    },
    "id": "1a91e676",
    "outputId": "a1497638-d3e0-45ad-c64d-ae8b4d9b79c2"
   },
   "outputs": [
    {
     "data": {
      "text/html": [
       "<style>#sk-container-id-3 {color: black;}#sk-container-id-3 pre{padding: 0;}#sk-container-id-3 div.sk-toggleable {background-color: white;}#sk-container-id-3 label.sk-toggleable__label {cursor: pointer;display: block;width: 100%;margin-bottom: 0;padding: 0.3em;box-sizing: border-box;text-align: center;}#sk-container-id-3 label.sk-toggleable__label-arrow:before {content: \"▸\";float: left;margin-right: 0.25em;color: #696969;}#sk-container-id-3 label.sk-toggleable__label-arrow:hover:before {color: black;}#sk-container-id-3 div.sk-estimator:hover label.sk-toggleable__label-arrow:before {color: black;}#sk-container-id-3 div.sk-toggleable__content {max-height: 0;max-width: 0;overflow: hidden;text-align: left;background-color: #f0f8ff;}#sk-container-id-3 div.sk-toggleable__content pre {margin: 0.2em;color: black;border-radius: 0.25em;background-color: #f0f8ff;}#sk-container-id-3 input.sk-toggleable__control:checked~div.sk-toggleable__content {max-height: 200px;max-width: 100%;overflow: auto;}#sk-container-id-3 input.sk-toggleable__control:checked~label.sk-toggleable__label-arrow:before {content: \"▾\";}#sk-container-id-3 div.sk-estimator input.sk-toggleable__control:checked~label.sk-toggleable__label {background-color: #d4ebff;}#sk-container-id-3 div.sk-label input.sk-toggleable__control:checked~label.sk-toggleable__label {background-color: #d4ebff;}#sk-container-id-3 input.sk-hidden--visually {border: 0;clip: rect(1px 1px 1px 1px);clip: rect(1px, 1px, 1px, 1px);height: 1px;margin: -1px;overflow: hidden;padding: 0;position: absolute;width: 1px;}#sk-container-id-3 div.sk-estimator {font-family: monospace;background-color: #f0f8ff;border: 1px dotted black;border-radius: 0.25em;box-sizing: border-box;margin-bottom: 0.5em;}#sk-container-id-3 div.sk-estimator:hover {background-color: #d4ebff;}#sk-container-id-3 div.sk-parallel-item::after {content: \"\";width: 100%;border-bottom: 1px solid gray;flex-grow: 1;}#sk-container-id-3 div.sk-label:hover label.sk-toggleable__label {background-color: #d4ebff;}#sk-container-id-3 div.sk-serial::before {content: \"\";position: absolute;border-left: 1px solid gray;box-sizing: border-box;top: 0;bottom: 0;left: 50%;z-index: 0;}#sk-container-id-3 div.sk-serial {display: flex;flex-direction: column;align-items: center;background-color: white;padding-right: 0.2em;padding-left: 0.2em;position: relative;}#sk-container-id-3 div.sk-item {position: relative;z-index: 1;}#sk-container-id-3 div.sk-parallel {display: flex;align-items: stretch;justify-content: center;background-color: white;position: relative;}#sk-container-id-3 div.sk-item::before, #sk-container-id-3 div.sk-parallel-item::before {content: \"\";position: absolute;border-left: 1px solid gray;box-sizing: border-box;top: 0;bottom: 0;left: 50%;z-index: -1;}#sk-container-id-3 div.sk-parallel-item {display: flex;flex-direction: column;z-index: 1;position: relative;background-color: white;}#sk-container-id-3 div.sk-parallel-item:first-child::after {align-self: flex-end;width: 50%;}#sk-container-id-3 div.sk-parallel-item:last-child::after {align-self: flex-start;width: 50%;}#sk-container-id-3 div.sk-parallel-item:only-child::after {width: 0;}#sk-container-id-3 div.sk-dashed-wrapped {border: 1px dashed gray;margin: 0 0.4em 0.5em 0.4em;box-sizing: border-box;padding-bottom: 0.4em;background-color: white;}#sk-container-id-3 div.sk-label label {font-family: monospace;font-weight: bold;display: inline-block;line-height: 1.2em;}#sk-container-id-3 div.sk-label-container {text-align: center;}#sk-container-id-3 div.sk-container {/* jupyter's `normalize.less` sets `[hidden] { display: none; }` but bootstrap.min.css set `[hidden] { display: none !important; }` so we also need the `!important` here to be able to override the default hidden behavior on the sphinx rendered scikit-learn.org. See: https://github.com/scikit-learn/scikit-learn/issues/21755 */display: inline-block !important;position: relative;}#sk-container-id-3 div.sk-text-repr-fallback {display: none;}</style><div id=\"sk-container-id-3\" class=\"sk-top-container\"><div class=\"sk-text-repr-fallback\"><pre>LinearRegression()</pre><b>In a Jupyter environment, please rerun this cell to show the HTML representation or trust the notebook. <br />On GitHub, the HTML representation is unable to render, please try loading this page with nbviewer.org.</b></div><div class=\"sk-container\" hidden><div class=\"sk-item\"><div class=\"sk-estimator sk-toggleable\"><input class=\"sk-toggleable__control sk-hidden--visually\" id=\"sk-estimator-id-3\" type=\"checkbox\" checked><label for=\"sk-estimator-id-3\" class=\"sk-toggleable__label sk-toggleable__label-arrow\">LinearRegression</label><div class=\"sk-toggleable__content\"><pre>LinearRegression()</pre></div></div></div></div></div>"
      ],
      "text/plain": [
       "LinearRegression()"
      ]
     },
     "execution_count": 32,
     "metadata": {},
     "output_type": "execute_result"
    }
   ],
   "source": [
    "from sklearn.linear_model import LinearRegression\n",
    "\n",
    "model = LinearRegression()\n",
    "\n",
    "model.fit(X_train, y_train)\n"
   ]
  },
  {
   "cell_type": "code",
   "execution_count": 33,
   "id": "7852b06e",
   "metadata": {
    "id": "7852b06e"
   },
   "outputs": [],
   "source": [
    "x_test_pred = model.predict(X_test)\n"
   ]
  },
  {
   "cell_type": "code",
   "execution_count": 34,
   "id": "1880b83c",
   "metadata": {
    "colab": {
     "base_uri": "https://localhost:8080/",
     "height": 472
    },
    "id": "1880b83c",
    "outputId": "709dbd76-ca9a-44df-edad-1c2017ed7f25"
   },
   "outputs": [
    {
     "data": {
      "image/png": "[encoded data removed]",
      "text/plain": [
       "<Figure size 640x480 with 1 Axes>"
      ]
     },
     "metadata": {},
     "output_type": "display_data"
    }
   ],
   "source": [
    "import matplotlib.pyplot as plt\n",
    "\n",
    "plt.scatter(y_test, x_test_pred)\n",
    "plt.xlabel(\"Actual Total Graduation\")\n",
    "plt.ylabel(\"Predicted Total Graduation\")\n",
    "plt.title(\"Actual vs. Predicted Total Graduations\")\n",
    "plt.show()"
   ]
  },
  {
   "cell_type": "code",
   "execution_count": 35,
   "id": "0747c9fc",
   "metadata": {
    "colab": {
     "base_uri": "https://localhost:8080/",
     "height": 206
    },
    "id": "0747c9fc",
    "outputId": "06dee718-b022-467e-f766-15f5265047d1"
   },
   "outputs": [
    {
     "data": {
      "text/html": [
       "<div>\n",
       "<style scoped>\n",
       "    .dataframe tbody tr th:only-of-type {\n",
       "        vertical-align: middle;\n",
       "    }\n",
       "\n",
       "    .dataframe tbody tr th {\n",
       "        vertical-align: top;\n",
       "    }\n",
       "\n",
       "    .dataframe thead th {\n",
       "        text-align: right;\n",
       "    }\n",
       "</style>\n",
       "<table border=\"1\" class=\"dataframe\">\n",
       "  <thead>\n",
       "    <tr style=\"text-align: right;\">\n",
       "      <th></th>\n",
       "      <th>Prediction</th>\n",
       "      <th>Actual</th>\n",
       "    </tr>\n",
       "  </thead>\n",
       "  <tbody>\n",
       "    <tr>\n",
       "      <th>117</th>\n",
       "      <td>0.908627</td>\n",
       "      <td>0.911</td>\n",
       "    </tr>\n",
       "    <tr>\n",
       "      <th>19</th>\n",
       "      <td>0.781734</td>\n",
       "      <td>0.786</td>\n",
       "    </tr>\n",
       "    <tr>\n",
       "      <th>82</th>\n",
       "      <td>0.858341</td>\n",
       "      <td>0.842</td>\n",
       "    </tr>\n",
       "    <tr>\n",
       "      <th>97</th>\n",
       "      <td>0.791480</td>\n",
       "      <td>0.809</td>\n",
       "    </tr>\n",
       "    <tr>\n",
       "      <th>56</th>\n",
       "      <td>0.832503</td>\n",
       "      <td>0.809</td>\n",
       "    </tr>\n",
       "  </tbody>\n",
       "</table>\n",
       "</div>"
      ],
      "text/plain": [
       "     Prediction  Actual\n",
       "117    0.908627   0.911\n",
       "19     0.781734   0.786\n",
       "82     0.858341   0.842\n",
       "97     0.791480   0.809\n",
       "56     0.832503   0.809"
      ]
     },
     "execution_count": 35,
     "metadata": {},
     "output_type": "execute_result"
    }
   ],
   "source": [
    "results = pd.DataFrame({\"Prediction\": x_test_pred[:y_test.shape[0]], \"Actual\": y_test}).head()\n",
    "results.head()"
   ]
  },
  {
   "cell_type": "code",
   "execution_count": 36,
   "id": "1c5c44f1",
   "metadata": {
    "id": "1c5c44f1"
   },
   "outputs": [],
   "source": [
    "# Saving the model for later use in the app\n",
    "with open(\"graduation_prediction_model.pkl\", \"wb\") as file:\n",
    "  pickle.dump(model, file)"
   ]
  },
  {
   "cell_type": "code",
   "execution_count": null,
   "id": "ab3217c7",
   "metadata": {},
   "outputs": [],
   "source": []
  }
 ],
 "metadata": {
  "colab": {
   "provenance": []
  },
  "kernelspec": {
   "display_name": "dev",
   "language": "python",
   "name": "dev"
  },
  "language_info": {
   "codemirror_mode": {
    "name": "ipython",
    "version": 3
   },
   "file_extension": ".py",
   "mimetype": "text/x-python",
   "name": "python",
   "nbconvert_exporter": "python",
   "pygments_lexer": "ipython3",
   "version": "3.11.5"
  }
 },
 "nbformat": 4,
 "nbformat_minor": 5
}
