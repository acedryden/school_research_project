{
 "cells": [
  {
   "cell_type": "code",
   "execution_count": 5,
   "id": "b7d79878",
   "metadata": {},
   "outputs": [
    {
     "name": "stdout",
     "output_type": "stream",
     "text": [
      " * Serving Flask app '__main__'\n",
      " * Debug mode: on\n"
     ]
    },
    {
     "name": "stderr",
     "output_type": "stream",
     "text": [
      "WARNING: This is a development server. Do not use it in a production deployment. Use a production WSGI server instead.\n",
      " * Running on http://127.0.0.1:5000\n",
      "Press CTRL+C to quit\n",
      " * Restarting with watchdog (windowsapi)\n"
     ]
    },
    {
     "ename": "SystemExit",
     "evalue": "1",
     "output_type": "error",
     "traceback": [
      "An exception has occurred, use %tb to see the full traceback.\n",
      "\u001b[1;31mSystemExit\u001b[0m\u001b[1;31m:\u001b[0m 1\n"
     ]
    }
   ],
   "source": [
    "from flask import Flask, render_template\n",
    "import nbformat\n",
    "from nbconvert import HTMLExporter\n",
    "\n",
    "app = Flask(__name__)\n",
    "\n",
    "@app.route('/notes')\n",
    "def view_notebook():\n",
    "    # Path to your IPython Notebook file\n",
    "    notebook_file = 'Project_4.ipynb'\n",
    "\n",
    "    # Read the notebook file using nbformat\n",
    "    with open(notebook_file, 'r') as f:\n",
    "        notebook_content = nbformat.read(f, as_version=4)\n",
    "\n",
    "    # Convert notebook content to HTML\n",
    "    html_exporter = HTMLExporter()\n",
    "    html_exporter.template_file = 'basic'  # Choose a template ('basic' is a default option)\n",
    "    (html, _) = html_exporter.from_notebook_node(notebook_content)\n",
    "\n",
    "    # Render HTML content within Flask template\n",
    "    return render_template('notebook.html', notebook_html=html)\n",
    "\n",
    "if __name__ == '__main__':\n",
    "    app.run(debug=True)\n"
   ]
  },
  {
   "cell_type": "code",
   "execution_count": null,
   "id": "70e96889",
   "metadata": {},
   "outputs": [],
   "source": []
  }
 ],
 "metadata": {
  "kernelspec": {
   "display_name": "Python 3 (ipykernel)",
   "language": "python",
   "name": "python3"
  },
  "language_info": {
   "codemirror_mode": {
    "name": "ipython",
    "version": 3
   },
   "file_extension": ".py",
   "mimetype": "text/x-python",
   "name": "python",
   "nbconvert_exporter": "python",
   "pygments_lexer": "ipython3",
   "version": "3.11.5"
  }
 },
 "nbformat": 4,
 "nbformat_minor": 5
}
